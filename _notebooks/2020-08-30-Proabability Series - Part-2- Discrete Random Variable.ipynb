{
 "cells": [
  {
   "cell_type": "markdown",
   "metadata": {},
   "source": [
    "# Probability Series - Part-2 - Discrete Random Variable\n",
    "> A tutorial on basic concepts related to Probability.\n",
    "\n",
    "- toc: true \n",
    "- badges: true\n",
    "- comments: true\n",
    "- categories: [jupyter,probability,randomvariable,discreterandomvariable,bernoulli,binomial,geometric]\n",
    "- image: images/DiscreteRandomVariable.png"
   ]
  },
  {
   "cell_type": "markdown",
   "metadata": {},
   "source": [
    "# Note\n",
    "\n",
    "We are facing some issues in rendering Latex mathematical equations on this page.Refer opening this blog in Colab (button on the top right) to solve rendering issues."
   ]
  },
  {
   "cell_type": "markdown",
   "metadata": {},
   "source": [
    "# Introduction\n",
    "\n",
    "This is the second part of our Probability Series where we will talk about Random Variables.Before we start with random variable lets take a look at some of the concepts we discussed in the previous post:\n",
    "\n",
    "The world we see around us is full of phenomena we perceive as random or unpredictable. We aim to model this phenomena as outcomes of some experiment. The outcomes are a result of sample space and subsets of sample space are called events. The events will be assigned a probability a number between 0 and 1 that expresses how likely the event is to occur.\n",
    "\n",
    "The sample space associated with an experiment, together with a probability function defined on all its events, is a complete probabilistic description of that experiment. Often we are interested only in certain features of this description. We focus on these features using random variables.\n",
    "\n",
    "Random Variables can be expressed in two forms:\n",
    "1. Discrete Random Variable\n",
    "2. Continuos Random Variable\n"
   ]
  },
  {
   "cell_type": "code",
   "execution_count": 1,
   "metadata": {},
   "outputs": [],
   "source": [
    "# hide_input\n",
    "import scipy.stats as stats\n",
    "import pandas as pd\n",
    "import numpy as np\n",
    "from matplotlib import pyplot as plt\n",
    "%matplotlib inline\n",
    "plt.style.use('fivethirtyeight')\n",
    "np.random.seed(123)"
   ]
  },
  {
   "cell_type": "markdown",
   "metadata": {},
   "source": [
    "# Discrete Random Variable\n",
    "\n",
    "Suppose we are playing a game where the moves are determined by the maximum of two independent throws with a die. \n",
    "So here our sample space (Ω) is $ [(w_1,w_2) : w_1,w_2 \\in {1,2,3..6}]$ = $[(1,1)(1,2)..(1,6),(2,1)...(6,6)]$. So our sample space is of size 36.\n",
    "\n",
    "The events we are interested in is when we throw dice twice ,we will take the maximum of two independent throws.So for example if in one throw we get 2 and in another 3 , we will consider the outcome of this event as 3.\n",
    "\n",
    "Let us represent this function as $S$ which describes what an outcome could be for an event using the following:\n",
    "\n",
    "$S(w_1,w_2) = max(w_1,w_2)$  for $w_1,w_2 \\in Ω$\n",
    "\n",
    "Then the values S can take will be between 1 and 6 i.e $S \\in [1,2,3..6]$\n",
    "\n",
    "The functions S here is an examples of what we call discrete random variables.\n",
    "\n",
    "Let us now look at the formal defintion and try to relate with our example :\n",
    "\n",
    "**Discrete Random Variabe**<br>\n",
    "**Let Ω be a sample space. A discrete random variable is a function X : Ω → R that takes on a finite number of values $a_1 , a_2 , . . . , a_n$ or an infinite number of values a_1 , a_2 , . . . .**\n",
    "\n",
    "In a way, a discrete random variable X **transforms** a sample space Ω to a more **tangible** sample space Ω̃, whose events are more directly related to what we are interested in.If we link this to our example the thing we were interested in was the outcome as a $max(w_1,w_2)$ and the function describing this $S$ is precisely what we are calling as Discrete Random Variable which can take values $\\in[1,2,3,4,5,6]$"
   ]
  },
  {
   "cell_type": "markdown",
   "metadata": {},
   "source": [
    "# Probability Mass Function\n",
    "\n",
    "Continuing with our earlier example, as we have now introduced $S$ as a our Discrete Random Variable ,which represents a newer sample space  Ω̃, hence the sample space Ω is no longer important. It suffices to list the possible values of $S$ and their corresponding probabilities.The particular function in which this information is contained about $S$ is called **Probability Mass function of $S$**\n",
    "\n",
    "**Definition**\n",
    "**The probability mass function p of a discrete random variable X is the function p : R → [0, 1], defined by:      \n",
    "    p(a) = P(X = a) for $− ∞ < a < ∞$**\n",
    "    \n",
    "If X is a discrete random variable that takes on the values $a_1 , a_2 , . . .$, then:\n",
    "1. $p(a_i ) > 0,$\n",
    "2. $p(a_1 ) + p(a_2 ) + · · · = 1,$\n",
    "3. $p(a) = 0$ for all other a.\n",
    "\n",
    "If we link it to our example now:<br>\n",
    "Probability mass function p of $S$ for different values of **a** will be:<br>\n",
    "$p(a=1) = 1/36$ when $w_1,w_2 \\in [(1,1)]$ <br>\n",
    "$p(a=2) = 3/36$ when $w_1,w_2 \\in [(1,2),(2,1),(2,2)]$<br>\n",
    "$p(a=3) = 5/36$ when $w_1,w_2 \\in [(1,3),(2,3),(3,1),(3,2),(3,3)]$<br>\n",
    "..... <br>\n",
    "$p(a=6) = 11/36$ <br>\n",
    "and p(a) = 0 for all other values of a \n",
    "\n",
    "![](images/pmf.png)\n"
   ]
  },
  {
   "cell_type": "markdown",
   "metadata": {},
   "source": [
    "# Probability Distribution Function (Cumulative distribution function)\n",
    "\n",
    "**Definition**\n",
    "\n",
    "**The distribution function F of a random variable X is the function F : R → [0, 1], defined by\n",
    "F (a) = P(X ≤ a)  for −∞ < a < ∞**\n",
    "\n",
    "The distribution function F of a discrete random variable X can be expressed in terms of the probability mass function p of X and vice versa as both the probability mass function and the distribution function of a discrete\n",
    "random variable X contain all the probabilistic information of X.\n",
    "\n",
    "So if we have to calculate the **PDF** of our previously define discrete random variable X which can take values $a_1,a_2,a_3...$  where **PMF** was defined as $p(a_i), p(a_2 ), p(a_3 )...$  \n",
    "\n",
    "$$F(a) = \\sum\\limits_{a_i<=a} p(a_i)$$\n",
    "\n",
    "![](images/pdf.png)\n",
    "We see that, for a discrete random variable X, the distribution function F jumps in each of the $a_i$ , and is constant between successive $a_i$ . The height of the jump at $a_i$ is $p(a_i )$, in this way p can be retrieved from F.\n",
    "\n"
   ]
  },
  {
   "cell_type": "markdown",
   "metadata": {},
   "source": [
    "# Properties of Probability Distribution Function\n",
    "\n",
    "Based on our understanding on Probablity Distribution function, we can now define some properties that will help us to identify any function as distribution function of some random variable.\n",
    "These properties are as follows:\n",
    "\n",
    "1. For $a ≤ b$ one has that $F(a) ≤ F(b).$ This property is an immediate consequence of the fact that $a ≤ b$ implies that the event $\\{X ≤ a\\}$ is contained in the event $\\{X ≤ b\\}$.\n",
    "2. Since $F(a)$ is a probability, the value of the distribution function is always\n",
    "between 0 and 1. Moreover,\n",
    "\n",
    "$$\\lim_{a \\to +\\infty} F(a) = \\lim_{a \\to +\\infty} P(X ≤ a) = 1$$\n",
    "$$\\lim_{a \\to -\\infty} F(a) = \\lim_{a \\to -\\infty} P(X ≤ a) = 0$$\n",
    "3. F is right-continuous, i.e.\n",
    "$$\\lim_{\\epsilon \\to 0} F(a + \\epsilon) = F(a)$$"
   ]
  },
  {
   "cell_type": "markdown",
   "metadata": {},
   "source": [
    "# Examples of Discrete Random Variables\n",
    "\n",
    "## Bernoulli Distribution\n",
    "\n",
    "The Bernoulli distribution is used to model an experiment with only two possible outcomes, often referred to as “success” and “failure”, usually encoded as 1 and 0.\n",
    "\n",
    "A discrete random variable X has a Bernoulli distribution with parameter p, where $0 ≤ p ≤ 1$, if its probability mass function is given by\n",
    "\n",
    "$Ber(p)$\n",
    "$$p_x(1) = P(X = 1) = p$$<br>\n",
    "$$and$$<br>\n",
    "$$p_X(0) = P(X = 0) = 1 − p$$<br>\n",
    "\n",
    "Let us take an example of a coin toss.We say X=1 means getting Head and X = 0 means getting tails.Now if the coin is unbiased then P(X=1) = P(X=0) = p = 0.5. But if we say the coin is biased towards heads with 0.9 then P(X=1) = 0.9 and P(X=0) = 0.1. And now if generalize this for any value of biasness say $p→[0,1]$ we can say :\n",
    "\n",
    "$$P(X=1/p) = p$$<br>\n",
    "$$P(X=0/p) = 1-p$$\n",
    "\n",
    "                or in general\n",
    "\n",
    "$$P(X|p) = p^x.(1-p)^{1-x}$$\n",
    "\n",
    "Here we have introduced a parameter p which is unknown and the objective of learning is to observe bunch of 1s and 0s and figure out p. We will talk about the parameter p in our further sections.\n",
    "\n",
    "### Expectation/Mean of Bernoulli Variable\n",
    "\n",
    "$$E(X|p) = \\sum\\limits_{x  \\epsilon  [0,1]} x.p(x|p)$$ \n",
    "\n",
    "$$= 1.P(X=1|p) + 0.P(X=0|p)$$\n",
    "\n",
    "$$= 1.P(X=1|p)$$\n",
    "\n",
    "$$= p$$\n",
    "\n",
    "**So for Bernoulli Distribution the Expectation is the same as the Probability**\n",
    "\n",
    "### Variance of Bernoulli Variable\n",
    "\n",
    "$$Var(X|p) = E[(X-E(X|p)^2|p]$$\n",
    "\n",
    "$$= E[(X-p)^2|p]$$\n",
    "\n",
    "$$=(1-p)^2.P(X=1|p) + (0-p)^2.P(X=0|p)$$\n",
    "\n",
    "$$=(1-p)^2.p + p^2 . (1-p)$$\n",
    "\n",
    "$$=p.(1-p)$$"
   ]
  },
  {
   "cell_type": "markdown",
   "metadata": {},
   "source": [
    "## Binomial Distribution\n",
    "\n",
    "A binomial distribution can be thought of as simply the probability of getting HEAD or TAIL  outcome in an experiment or survey that is repeated multiple times.The other way to see this is that the Bernoulli distribution is the Binomial distribution with n=1.\n",
    "\n",
    "**Definition**\n",
    "A discrete random variable X has a binomial distribution with parameters n and p, where n = 1, 2, . . . and 0 ≤ p ≤ 1,if its probability mass function is given by\n",
    "\n",
    "\n",
    "$$Bin(n, p)= p_x(k) = P(X = k) = (n|k)p^k(1-p)^{n-k}$$\n",
    "\n",
    "Here,\n",
    "1. The first variable in the binomial formula, **n**, stands for the number of times the experiment runs.\n",
    "2. The second variable, **p**, represents the probability of one specific outcome.\n",
    "\n",
    "Let's take an example to get the hang of this concept:\n",
    "Consider the game of coining the toss. It consists of 10 trials, and each trial has equal probability of getting heads and tails. You will win the game if you get exactly 1 head in those 10 trials.What is the probability that you will win the game P(W) = ?\n",
    "\n",
    "$n= 10$,\n",
    "$p = 1|2$\n",
    "\n",
    "Out of 10 trials ,we can get head in any one of 10 trials.So there are 10 ways in which this can happen and if you remember thisfrom Permutation and Combination concepts we can represent this as $10C_1$.Also it means we have to get tails 9 times and heads 1 time to win the game.Hence\n",
    "\n",
    "$$P(W) = 10C_1. (1/2)^1(1/2)^{10-1}$$\n",
    "\n",
    "Now let us modify the experiment setting by saying that the coin is biased where $P(Head) = 1/4$ and $P(Tails) = 3/4$. What is the probability that you will win the game P(X),given winning is defined by getting 6 heads and more out of 10 trials.\n",
    "\n",
    "\n",
    "Possible cases of winning could be:\n",
    "1. Getting 6 heads and 4 tails\n",
    "2. Getting 7 heads and 3 tails\n",
    "3. Getting 8 heads and 2 tails\n",
    "4. Getting 9 heads and 1 tails\n",
    "5. Getting all 10 heads\n",
    "So,\n",
    "$$P(X ≥ 6) = P(X = 6) + · · · + P(X = 10)$$\n",
    "\n",
    "$$P(X≥6) = 10C_6 . (1/4)^6(1/4)^{10-6} + 10C_7 . (1/4)^7(1/4)^{10-7 }... + 10C_10 . (1/4)^10(1/4)^{10-10}$$\n",
    "$$P(X ≥ 6) = 0.0197$$\n",
    "\n",
    "**The preceding random variable W or X are examples of a random variable with a binomial distribution with parameters n = 10 and p = 1/2**"
   ]
  },
  {
   "cell_type": "markdown",
   "metadata": {},
   "source": [
    "### Expectation/Mean of Binomial Distribution\n",
    "\n",
    "If we carefully think about a binomial distribution, it is not difficult to determine that the expected value of this type of probability distribution is np. \n",
    "For a few quick examples of this, consider the following:\n",
    "1. If we toss 100 coins, and X is the number of heads, the expected value of X is 50 = $(1/2)*100.$\n",
    "\n",
    "Although intuition is a good tool to guide us, it is not enough to form a mathematical argument and to prove that something is true.Lets try calculating it..\n",
    "\n",
    "The probability function for a binomial random variable is:\n",
    "$$b(x;n,p) = (n|x)p^x(1-p)^{n-x}$$\n",
    "This is the probability of having $x$ successes in a series of $n$ independent trials when the probability of success in any one of the trials is $p$.  If $X$ is a random variable with this probability distribution,then Expectation:\n",
    "\n",
    "$$E(X) = \\sum\\limits_{x = 0}^{n} x.(n|x).p^x.(1-p)^{n-x}$$ \n",
    "\n",
    "or\n",
    "\n",
    "$$E(X) = \\sum\\limits_{x = 0}^{n} x.[n!|((x!)(n-x)!))].p^x.(1-p)^{n-x}$$ \n",
    "\n",
    "Since each term of the summation is multiplied by x, the value of the term corresponding to x = 0 will be 0, and so we can actually write\n",
    "\n",
    "$$E(X) = \\sum\\limits_{x = 1}^{n} [n!|(((x-1)!)(n-x)!))].p^x.(1-p)^{n-x}$$ \n",
    "\n",
    "Now, Let y = x−1 and m=n−1. Subbing x=y+1 and n=m+1 into the last sum (and using the fact that the limits x= 1 and x=n correspond to y= 0 and y=n−1 = m, respectively\n",
    "\n",
    "$$E(X) =  \\sum\\limits_{y = 0}^{m} [(m+1)!|((y!)(m-y)!))].p^{y+1}.(1-p)^{m-y}$$ \n",
    "\n",
    "We factor out the m+1 and one p from the above expression\n",
    "\n",
    "$$E(X) =  (m+1).p \\sum\\limits_{y = 0}^{m} [m!|((y!)(m-y)!))].p^{y}.(1-p)^{m-y}$$\n",
    "\n",
    "Substituting m+1 = n\n",
    "\n",
    "$$E(X) =  n.p \\sum\\limits_{y = 0}^{m} [m!|((y!)(m-y)!))].p^{y}.(1-p)^{m-y} ----(i)$$\n",
    "\n",
    "**The binomial theorem says that**\n",
    "\n",
    "$$(a+b)^m =\\sum\\limits_{y=0}^{m} [m!|(y!)(m-y)!].a^y.b^{m-y}$$\n",
    "\n",
    "Substituting **a = p** and **b = 1-p** in the above equation\n",
    "\n",
    "$$E(X) =   \\sum\\limits_{y = 0}^{m} [m!|((y!)(m-y)!))].p^{y}.(1-p)^{m-y}$$\n",
    "\n",
    " and this is same as eq-1 if we ignore the $[n.p]$ part.Hence \n",
    " \n",
    "$$(a+b)^m = (p+1-p)^m = 1$$\n",
    " \n",
    "$$E(X) = np$$ \n",
    "\n",
    "\n",
    "\n",
    "**Similarly, if we put $y=x−2$ and $m=n−2$ we can get the Variance of Binomial Distribution.Try it yourself.**You can also refer the materials which has been shared in the reference**\n"
   ]
  },
  {
   "cell_type": "markdown",
   "metadata": {},
   "source": [
    "There is a more simpler way you can think about for calculating the Expectation and Variance of Binomial Distribution. Remember we said, Binomial Distribution is Bernoulli Distribution with n = 1.So extending on this concept we can say:\n",
    "\n",
    "$$E(X) = I_1 + I_2 + I_3 ... I_n$$\n",
    "\n",
    "where each I is the Independent Bernoulli Random Variable\n",
    "\n",
    "We know **Expecatation of Bernoulli Random Variable is p.** So expectation for Binomial Distribution: \n",
    "\n",
    "$$E(X) = E[I_1 + I_2 + I_3 + ....I_N]$$\n",
    "\n",
    "$$E(X) = E[I_1] + E[I_2] + E[I_3] + .... E[I_N]$$\n",
    "\n",
    "$$E(X) = p + p + p + p .. = np$$\n",
    "\n",
    "On the same line ff we think about the Variance \n",
    "\n",
    "$$Var(X) = Var[I_1 + I_2 + I_3 + ..I_N)$$\n",
    "\n",
    "$$Var(X) = Var[I_1] + Var[I_2] + Var[I_3] + .... Var[I_N]$$\n",
    "\n",
    "$$Var(X)  = p(n-p) + p(n-p) .... = n. p(n-p)$$"
   ]
  },
  {
   "cell_type": "markdown",
   "metadata": {},
   "source": [
    "### Probability Mass function of Binomial Distribution \n",
    "\n",
    "![](images/binomial_pmf.png)"
   ]
  },
  {
   "cell_type": "markdown",
   "metadata": {},
   "source": [
    "### Probability Distribution function of Binomial Distribution \n",
    "\n",
    "![](images/binomial_pdf.png)"
   ]
  },
  {
   "cell_type": "markdown",
   "metadata": {},
   "source": [
    "## Geometric Distribution\n",
    "\n",
    "The geometric distribution is the distribution of the number of trials needed to get the first success in repeated Bernoulli trials.\n",
    "\n",
    "Lets contiue on our previous example of coin toss to understand this concept:\n",
    "\n",
    "Consider the game of coining the toss. It consists of 10 trials, and each trial has equal probability of getting heads and tails. You will win the game if you get exactly the 1st head in the 6th trial.What is the probability that you will win the game P(W) = ?\n",
    "\n",
    "\n",
    "1. P(H/T) = 0.5 ( as it mis mentioned we have equal probability og getting heads and tails).\n",
    "2. For the 1st Head to appear on the 6th trial:\n",
    "    1. The first 5 trials must be a failure.\n",
    "    2. The 6th trial must be a success.\n",
    "    \n",
    "Hence , if we calculate the P(W) at 6th trial:\n",
    "\n",
    "$$P(W = 6) = 0.5^{(6-1)} * 0.5^1$$\n",
    "\n",
    "$$P(W = 6) = 0.015625  ---- (i)$$\n",
    "\n",
    "\n",
    "Now if we generalise :\n",
    "\n",
    "**Definition**\n",
    "\n",
    "A discrete random variable X has a geometric distribution with parameter p, where 0 < p ≤ 1, if its probability mass function is given by :\n",
    "\n",
    "$$ p_x(k) = P(X = k) = (1 − p)^{k−1} * p$$ \n",
    "\n",
    "where k = 1, 2, . . . .infinite steps (there is no upper bound on k)\n",
    "\n",
    "\n",
    "\n",
    "Similarly if we ask:\n",
    "\n",
    "Consider the game of coining the toss. It consists of 10 trials, and each trial has equal probability of getting heads and tails. You will win the game if the 1st head occurs on or before the third trial.What is the probability that you will win the game P(W) = ?\n",
    "\n",
    "**Ans**<br>\n",
    "In short what we are looking for is :  $P(X \\leq 3)$\n",
    "\n",
    "So\n",
    "\n",
    "$$P(X \\leq 3) = P(X=1) + P (X=2) + P(X=3)$$\n",
    "\n",
    "$$P(X \\leq 3) = (1-0.5)^0 * 0.5 + (1-0.5)^1 * 0.5 + (1-0.5)^2 * 0.5$$ \n",
    "\n",
    "$$P(X \\leq 3) =  0.5 + 0.25 + 0.125$$\n",
    "\n",
    "$$P(X \\leq 3) =  0.875 ---  (ii)$$\n",
    "\n",
    "or ,other way to think about this is to calculate $P(X>3)$ which means getting three failures(getting tails) in a row, then \n",
    "\n",
    "$P(X\\leq 3)$ is the compliemnt of $P(X>3)$, hence\n",
    "\n",
    "$$P(X \\leq 3) = 1 -  P(X>3)$$\n",
    "\n",
    "$$P(X \\leq 3) = 1 -  0.5^3$$\n",
    "\n",
    "$$P(X \\leq 3) = 1 -  0.5^3$$\n",
    "\n",
    "$$P(X \\leq 3) = 0.875$$\n",
    "\n",
    "This value is same as obtained in equation- (ii) above"
   ]
  },
  {
   "cell_type": "code",
   "execution_count": 2,
   "metadata": {},
   "outputs": [
    {
     "name": "stdout",
     "output_type": "stream",
     "text": [
      "col_0     1     2     3    4    5    6   7   8   9   10  11  12  14\n",
      "row_0                                                              \n",
      "counts  4965  2588  1269  563  306  163  86  38   7   5   8   1   1\n"
     ]
    },
    {
     "data": {
      "image/png": "[encoded data removed]",
      "text/plain": [
       "<Figure size 432x288 with 1 Axes>"
      ]
     },
     "metadata": {
      "needs_background": "light"
     },
     "output_type": "display_data"
    }
   ],
   "source": [
    "#collapse\n",
    "np.random.seed(123)\n",
    "flips_till_heads = stats.geom.rvs(size=10000,  # Generate geometric data\n",
    "                                  p=0.5)       # With success prob 0.5\n",
    "\n",
    "# Print table of counts\n",
    "print( pd.crosstab(index=\"counts\", columns= flips_till_heads))\n",
    "\n",
    "# Plot histogram\n",
    "pd.DataFrame(flips_till_heads,columns=[\"Histogram of Geom Random Variable X\"]).hist(range=(-0.5,max(flips_till_heads)+0.5)\n",
    "                                    , bins=max(flips_till_heads)+1)\n",
    "plt.ylabel(\"Frequency\");"
   ]
  },
  {
   "cell_type": "markdown",
   "metadata": {},
   "source": [
    "The distribution looks similar to what we'd expect: it is very likely to get a heads in 1 or 2 flips, while it is very unlikely for it to take more than 5 flips to get a heads. In the 10,000 trails we generated, the longest it took to get a heads was 12 flips."
   ]
  },
  {
   "cell_type": "markdown",
   "metadata": {},
   "source": [
    "### Expectation/Mean of Geometric Distribution\n",
    "\n",
    "The expected value for the number of independent trials to get the first success, of a geometrically distributed random variable X is 1/p.\n",
    "\n",
    "$$E[X] = 1/p$$\n",
    "\n",
    "So in our case it will be $\\frac{1}{0.5} = 2$\n",
    "\n",
    "\n",
    "\n"
   ]
  },
  {
   "cell_type": "code",
   "execution_count": 3,
   "metadata": {},
   "outputs": [
    {
     "data": {
      "text/plain": [
       "1.9841"
      ]
     },
     "execution_count": 3,
     "metadata": {},
     "output_type": "execute_result"
    }
   ],
   "source": [
    "#collapse\n",
    "#If we calculate the mean of the distribution from our simulation:\n",
    "flips_till_heads.mean()"
   ]
  },
  {
   "cell_type": "markdown",
   "metadata": {},
   "source": [
    " We can observe this simulated value is very close to our theoretically calculated value.\n",
    " \n",
    "**Note-To get more precise value try increasing the number of trials,it will bring the mean closer to 2**"
   ]
  },
  {
   "cell_type": "markdown",
   "metadata": {},
   "source": [
    "### Variance of Geometric Distribution\n",
    "\n",
    "The variance for the number of independent trials to get the first success, of a geometrically distributed random variable X is\n",
    "$$Var[X] =  \\frac{(1-p)}{p^2}$$\n",
    "\n",
    "So in our case it will be $\\frac{(1-0.5)}{0.5^2} = 2$"
   ]
  },
  {
   "cell_type": "code",
   "execution_count": 4,
   "metadata": {},
   "outputs": [
    {
     "data": {
      "text/plain": [
       "1.8918471900000005"
      ]
     },
     "execution_count": 4,
     "metadata": {},
     "output_type": "execute_result"
    }
   ],
   "source": [
    "#collapse\n",
    "#If we calculate the mean of the distribution from our simulation:\n",
    "flips_till_heads.var()"
   ]
  },
  {
   "cell_type": "markdown",
   "metadata": {},
   "source": [
    "### Probability Mass Function "
   ]
  },
  {
   "cell_type": "code",
   "execution_count": 5,
   "metadata": {},
   "outputs": [
    {
     "data": {
      "image/png": "[encoded data removed]",
      "text/plain": [
       "<Figure size 432x288 with 1 Axes>"
      ]
     },
     "metadata": {
      "needs_background": "light"
     },
     "output_type": "display_data"
    }
   ],
   "source": [
    "#collapse\n",
    "p=0.5\n",
    "fig, ax = plt.subplots(1, 1)\n",
    "x = np.arange(stats.geom.ppf(0.01, p),\n",
    "\n",
    "              stats.geom.ppf(0.99, p))\n",
    "\n",
    "ax.plot(x, stats.geom.pmf(x, p), 'bo', ms=8, label='Geometric PMF')\n",
    "\n",
    "ax.vlines(x, 0, stats.geom.pmf(x, p), colors='b', lw=5, alpha=0.5)\n",
    "plt.title(\"Probability Mass Function\")\n",
    "plt.xlabel(\"X\")\n",
    "plt.ylabel(\"P(X)\")\n",
    "\n",
    "ax.legend(loc='best', frameon=False)\n",
    "\n",
    "plt.show()\n"
   ]
  },
  {
   "cell_type": "code",
   "execution_count": 6,
   "metadata": {},
   "outputs": [
    {
     "data": {
      "text/plain": [
       "0.015625"
      ]
     },
     "execution_count": 6,
     "metadata": {},
     "output_type": "execute_result"
    }
   ],
   "source": [
    "#collapse\n",
    "#check the probability of seeing a specific number of flips before a successes\n",
    "stats.geom.pmf(k=6,   # Prob of needing exactly 6 flips to get first success\n",
    "              p=0.5)"
   ]
  },
  {
   "cell_type": "markdown",
   "metadata": {},
   "source": [
    "This result is same as we obtained in equation (i) above"
   ]
  },
  {
   "cell_type": "markdown",
   "metadata": {},
   "source": [
    "### Probability Distribution Function"
   ]
  },
  {
   "cell_type": "code",
   "execution_count": 7,
   "metadata": {},
   "outputs": [
    {
     "data": {
      "image/png": "[encoded data removed]",
      "text/plain": [
       "<Figure size 432x288 with 1 Axes>"
      ]
     },
     "metadata": {
      "needs_background": "light"
     },
     "output_type": "display_data"
    }
   ],
   "source": [
    "#collapse\n",
    "p=0.5\n",
    "fig, ax = plt.subplots(1, 1)\n",
    "x = np.arange(1,max(flips_till_heads)+1)\n",
    "\n",
    "ax.plot(x, stats.geom.cdf(x, p), 'bo', ms=8, label='Geom CDF')\n",
    "\n",
    "ax.vlines(x, 0, stats.geom.cdf(x, p), colors='b', lw=5, alpha=0.5)\n",
    "ax.legend(loc='best', frameon=False)\n",
    "plt.title(\"Probability Distribution Function\")\n",
    "plt.xlabel(\"X\")\n",
    "plt.ylabel(\"P(X)\")\n",
    "\n",
    "plt.show()\n"
   ]
  },
  {
   "cell_type": "code",
   "execution_count": 8,
   "metadata": {},
   "outputs": [
    {
     "data": {
      "text/plain": [
       "0.875"
      ]
     },
     "execution_count": 8,
     "metadata": {},
     "output_type": "execute_result"
    }
   ],
   "source": [
    "#collapse\n",
    "#check the probability of needing 3 flips to get a success\n",
    "\n",
    "first_three = stats.geom.cdf(k=3,   # Prob of success in first 3 flips\n",
    "                           p=0.5)\n",
    "\n",
    "first_three"
   ]
  },
  {
   "cell_type": "markdown",
   "metadata": {},
   "source": [
    "This result is same as we obtained in equation (ii) above"
   ]
  },
  {
   "cell_type": "code",
   "execution_count": 9,
   "metadata": {},
   "outputs": [
    {
     "name": "stdout",
     "output_type": "stream",
     "text": [
      "\n",
      " Mean- 2.0\n",
      " Variance- 2.0 \n",
      " Skewness- 2.1213203435596424 \n",
      " Kurtosis- 6.5\n"
     ]
    }
   ],
   "source": [
    "#collapse\n",
    "#To get more statistics of Geomtric distribution \n",
    "p = 0.5\n",
    "mean , var, skew, kurtosis = stats.geom.stats(p,moments = 'mvsk')\n",
    "print(f'\\n Mean- {mean}\\n Variance- {var} \\n Skewness- {skew} \\n Kurtosis- {kurtosis}')"
   ]
  },
  {
   "cell_type": "markdown",
   "metadata": {},
   "source": [
    "# Real Life Use Cases of These Distributions\n",
    "\n",
    "**1. Bernoulli Distribution**\n",
    "\n",
    "Bernoulli distribution can model the following real life situations:\n",
    "\n",
    "1. A newborn child is either male or female. (Here the probability of a child being a male is roughly 0.5.)\n",
    "2. You either pass or fail an exam.\n",
    "3. A tennis player either wins or loses a match.\n",
    "\n",
    "\n",
    "**2. Binomial distribution** <br>\n",
    "As we know Binomial distribution can be thought as Bernoulli with multiple trials in an experiment.\n",
    "\n",
    "Binomial distribution can model the following real life situations:\n",
    "\n",
    "1. In an experiment of 100 pregnancy,finding the probability of number of child born is either male or female. \n",
    "2. In an experiment of test series,finding the probability of a students passing  or failing an the test series.\n",
    "3. In a tennis tournament,finding the probability of a tennis player winning the tournament.\n",
    "\n",
    "**3. Geometric Distribution**\n",
    "\n",
    "Geometric distribution can model the following real life situations:\n",
    "1. In sports, particularly in baseball, a geometric distribution is useful in analyzing the probability a batter earns a hit before he receives three strikes; here, the goal is to reach a success within 3 trials.\n",
    "2. In cost-benefit analyses, such as a company deciding whether to fund research trials that, if successful, will earn the company some estimated profit, the goal is to reach a success before the cost outweighs the potential gain.\n",
    "3. In time management, the goal is to complete a task before some set amount of time."
   ]
  },
  {
   "cell_type": "markdown",
   "metadata": {},
   "source": [
    "# References\n",
    "\n",
    "1. [Discrete Distributions](https://online.stat.psu.edu/stat504/node/209/)\n",
    "2. [Binomial Distribution](http://www.math.ubc.ca/~feldman/m302/binomial.pdf)\n",
    "3. [Usecases of Bernoulli Distribuion](https://brilliant.org/wiki/bernoulli-distribution/#:~:text=The%20Bernoulli%20distribution%20therefore%20describes,6%20or%20any%20other%20number.)\n",
    "4. [Geometric Distribution](https://brilliant.org/wiki/geometric-distribution/)"
   ]
  }
 ],
 "metadata": {
  "kernelspec": {
   "display_name": "Python 3",
   "language": "python",
   "name": "python3"
  },
  "language_info": {
   "codemirror_mode": {
    "name": "ipython",
    "version": 3
   },
   "file_extension": ".py",
   "mimetype": "text/x-python",
   "name": "python",
   "nbconvert_exporter": "python",
   "pygments_lexer": "ipython3",
   "version": "3.6.9"
  },
  "toc": {
   "base_numbering": 1,
   "nav_menu": {},
   "number_sections": true,
   "sideBar": true,
   "skip_h1_title": false,
   "title_cell": "Table of Contents",
   "title_sidebar": "Contents",
   "toc_cell": false,
   "toc_position": {
    "height": "calc(100% - 180px)",
    "left": "10px",
    "top": "150px",
    "width": "317.883px"
   },
   "toc_section_display": true,
   "toc_window_display": true
  }
 },
 "nbformat": 4,
 "nbformat_minor": 4
}
