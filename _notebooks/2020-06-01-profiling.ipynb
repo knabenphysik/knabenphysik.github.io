{
 "cells": [
  {
   "cell_type": "markdown",
   "metadata": {},
   "source": [
    "# Time and Memory Profiling for Python \n",
    "> Let's save some time and memory, coz both are expensive.\n",
    "\n",
    "- toc: true \n",
    "- badges: true\n",
    "- comments: true\n",
    "- categories: [profiling,timing,memory,memoryleakage,profiler,memory_profiler,line_profiler,optimize]\n",
    "- image: images/profiling.jpg"
   ]
  },
  {
   "cell_type": "markdown",
   "metadata": {},
   "source": [
    "# Introduction\n",
    "Every Developer desires to make their code optimzied and efficient. A dream where the developers want that their code to execute faster, with no memory leakage on the production system. \n",
    "\n",
    "Let's make this dream true...\n",
    "\n",
    "Creating Data-processing pipeline, writing new algorithms, Deploying Machine Learning models to server million users, Scientific calculation in astropyhsics, these are few areas where when we write code we want to profile every single line of code for two things \n",
    "1. The amount of time it is taking to execute where our goal is to reduce the time taken a.k.a Time Complexity.\n",
    "2. The memory consumption for execution of that code where our goal is to reduce the memory usage a.k.a Space complexity.\n",
    "\n",
    "There always a trade-off between both of them some time we are fine with memory consumption but not with the time it takes and vice-versa based on the needs we check for the trade-off, but the best system is where we can reduce both space and time complexity.\n",
    "\n",
    "# Premature Optimization is evil.\n",
    "\n",
    "Early in developing Algorithms we should think less about these things because it can be counter-productive which can lead to premature optimization  and its the root cause of all evil.\n",
    "\n",
    "So first make it work then optimize it."
   ]
  },
  {
   "cell_type": "markdown",
   "metadata": {},
   "source": [
    "# Magic functions and tools\n",
    "While most of the data science experiments starts in Ipython Notebook. \n",
    "The Ipython enviroment gives us some magic functions which can be utilized to profile our code.\n",
    "\n",
    "\n",
    "1. [%%timeit](https://ipython.readthedocs.io/en/stable/interactive/magics.html#magic-timeit): Measuring time taken for the codeblock to run\n",
    "2. [%lprun](https://github.com/pyutils/line_profiler): Run code with the line-by-line profiler\n",
    "3. [%mprun](https://github.com/pythonprofilers/memory_profiler): Run code with the line-by-line memory profiler\n",
    "\n",
    "For Tracing Memory Leakage we can use [Pympler](https://pythonhosted.org/Pympler/index.html)."
   ]
  },
  {
   "cell_type": "code",
   "execution_count": 1,
   "metadata": {},
   "outputs": [],
   "source": [
    "import numpy as np"
   ]
  },
  {
   "cell_type": "markdown",
   "metadata": {},
   "source": [
    "# Timeit\n",
    "\n",
    "The usage of timeit is very simple just put the magic method on the top of the cell and it will calculate the time taken to execute the cell.\n",
    "\n",
    "Let's compare vectorized vs non-vectorized version of numpy code."
   ]
  },
  {
   "cell_type": "code",
   "execution_count": 2,
   "metadata": {},
   "outputs": [],
   "source": [
    "number = np.random.randint(0,100,10000)"
   ]
  },
  {
   "cell_type": "code",
   "execution_count": 3,
   "metadata": {},
   "outputs": [
    {
     "name": "stdout",
     "output_type": "stream",
     "text": [
      "3.11 ms ± 86.9 µs per loop (mean ± std. dev. of 7 runs, 100 loops each)\n"
     ]
    }
   ],
   "source": [
    "%%timeit\n",
    "total = 0\n",
    "for i in number:\n",
    "    total+=i"
   ]
  },
  {
   "cell_type": "code",
   "execution_count": 4,
   "metadata": {},
   "outputs": [
    {
     "name": "stdout",
     "output_type": "stream",
     "text": [
      "14.9 µs ± 74.3 ns per loop (mean ± std. dev. of 7 runs, 100000 loops each)\n"
     ]
    }
   ],
   "source": [
    "%%timeit\n",
    "number.sum()"
   ]
  },
  {
   "cell_type": "markdown",
   "metadata": {},
   "source": [
    "The difference in the execution time is evident one.\n",
    "\n",
    "Non-vectorized code in Milliseconds, 10<sup>-3</sup>.<br>\n",
    "Vectorized code in Microseconds, 10<sup>-6</sup>.\n",
    "\n",
    "Vectorized code is the winner here."
   ]
  },
  {
   "cell_type": "markdown",
   "metadata": {},
   "source": [
    "# Timing Profiling with Lprun\n",
    "\n",
    "line_profiler is a package for doing line-by-line timing profiling of functions.\n",
    "\n",
    "Install using\n",
    "\n",
    "```bash\n",
    "pip install line_profiler\n",
    "```\n",
    "\n",
    "Python provides a builtin profiler, but we will be using Line profiler for reasons stated below.\n",
    "\n",
    "The current profiling tools supported in Python 2.7 and later only time function calls. This is a good first step for locating hotspots in one's program and is frequently all one needs to do to optimize the program. However, sometimes the cause of the hotspot is actually a single line in the function, and that line may not be obvious from just reading the source code. These cases are particularly frequent in scientific computing. Functions tend to be larger (sometimes because of legitimate algorithmic complexity, sometimes because the programmer is still trying to write FORTRAN code), and a single statement without function calls can trigger lots of computation when using libraries like numpy. cProfile only times explicit function calls, not special methods called because of syntax. Consequently, a relatively slow numpy operation on large arrays like this,\n",
    "\n",
    "```python\n",
    "a[large_index_array] = some_other_large_array\n",
    "```\n",
    "is a hotspot that never gets broken out by cProfile because there is no explicit function call in that statement.\n",
    "\n",
    "LineProfiler can be given functions to profile, and it will time the execution of each individual line inside those functions. In a typical workflow, one only cares about line timings of a few functions because wading through the results of timing every single line of code would be overwhelming. However, LineProfiler does need to be explicitly told what functions to profile."
   ]
  },
  {
   "cell_type": "code",
   "execution_count": 5,
   "metadata": {},
   "outputs": [],
   "source": [
    "# once installed we have load the extension\n",
    "%load_ext line_profiler"
   ]
  },
  {
   "cell_type": "code",
   "execution_count": 6,
   "metadata": {},
   "outputs": [],
   "source": [
    "def some_operation(x):\n",
    "    x = x **2\n",
    "    x = x +2\n",
    "    x = np.concatenate([x,x,x],axis=0)\n",
    "    return x"
   ]
  },
  {
   "cell_type": "markdown",
   "metadata": {},
   "source": [
    "Now the `%lprun` command will do a line-by-line profiling of any function–in this case, we need to tell it explicitly which functions we're interested in profiling:\n"
   ]
  },
  {
   "cell_type": "code",
   "execution_count": 7,
   "metadata": {},
   "outputs": [],
   "source": [
    "%lprun -f some_operation some_operation(np.random.randn(100))"
   ]
  },
  {
   "cell_type": "markdown",
   "metadata": {},
   "source": [
    "```\n",
    "Timer unit: 1e-06 s\n",
    "\n",
    "Total time: 7.7e-05 s\n",
    "File: <ipython-input-30-80aca4fcfa96>\n",
    "Function: some_operation at line 1\n",
    "\n",
    "Line #      Hits         Time  Per Hit   % Time  Line Contents\n",
    "==============================================================\n",
    "     1                                           def some_operation(x):\n",
    "     2         1         24.0     24.0     31.2      x = x **2\n",
    "     3         1         22.0     22.0     28.6      x = x +2\n",
    "     4         1         30.0     30.0     39.0      x = np.concatenate([x,x,x],axis=0)\n",
    "     5         1          1.0      1.0      1.3      return x\n",
    "\n",
    "```\n",
    "\n",
    "The source code of the function is printed with the timing information for each line. There are six columns of information.\n",
    "\n",
    "* Line : The line number in the file.\n",
    "* Hits: The number of times that line was executed.\n",
    "* Time: The total amount of time spent executing the line in the timer's units. In the header information before the tables, you will see a line \"Timer unit:\" giving the conversion factor to seconds. It may be different on different systems.\n",
    "* Per Hit: The average amount of time spent executing the line once in the timer's units.\n",
    "* % Time: The percentage of time spent on that line relative to the total amount of recorded time spent in the function.\n",
    "* Line Contents: The actual source code. Note that this is always read from disk when the formatted results are viewed, not when the code was executed. If you have edited the file in the meantime, the lines will not match up, and the formatter may not even be able to locate the function for display.\n",
    "\n"
   ]
  },
  {
   "cell_type": "markdown",
   "metadata": {},
   "source": [
    "# Memory Profiling with mprun\n",
    "\n",
    "This is a python module for monitoring memory consumption of a process as well as line-by-line analysis of memory consumption for python programs. \n",
    "\n",
    "Install\n",
    "\n",
    "```bash\n",
    "pip install -U memory_profiler\n",
    "```\n",
    "\n",
    "The only issue mprun doesn't work on notebook rather on a python file so we will write the code in notebook `%%file` magic function we will write that into a file and execute mprun on it"
   ]
  },
  {
   "cell_type": "code",
   "execution_count": 8,
   "metadata": {},
   "outputs": [],
   "source": [
    "%load_ext memory_profiler"
   ]
  },
  {
   "cell_type": "code",
   "execution_count": 9,
   "metadata": {},
   "outputs": [
    {
     "name": "stdout",
     "output_type": "stream",
     "text": [
      "Overwriting mprun.py\n"
     ]
    }
   ],
   "source": [
    "%%file mprun.py\n",
    "import numpy as np\n",
    "def some_operation(x):\n",
    "    y = x **2\n",
    "    z = y +2\n",
    "    result = np.concatenate([x,y,z],axis=0)\n",
    "    return result"
   ]
  },
  {
   "cell_type": "code",
   "execution_count": 10,
   "metadata": {},
   "outputs": [
    {
     "name": "stdout",
     "output_type": "stream",
     "text": [
      "\n"
     ]
    }
   ],
   "source": [
    "from mprun import some_operation\n",
    "%mprun -f some_operation some_operation(np.random.randn(100000))"
   ]
  },
  {
   "cell_type": "markdown",
   "metadata": {},
   "source": [
    "```\n",
    "Line #    Mem usage    Increment   Line Contents\n",
    "================================================\n",
    "     2     62.5 MiB     62.5 MiB   def some_operation(x):\n",
    "     3     63.3 MiB      0.8 MiB       y = x **2\n",
    "     4     64.0 MiB      0.8 MiB       z = y +2\n",
    "     5     66.3 MiB      2.3 MiB       result = np.concatenate([x,y,z],axis=0)\n",
    "     6     66.3 MiB      0.0 MiB       return result\n",
    "```\n",
    "\n",
    "* The first column represents the line number of the code that has been profiled.\n",
    "* The second column (Mem usage) the memory usage of the Python interpreter after that line has been executed.\n",
    "* The third column (Increment) represents the difference in memory of the current line with respect to the last one.\n",
    "* The last column (Line Contents) prints the code that has been profiled."
   ]
  },
  {
   "cell_type": "markdown",
   "metadata": {},
   "source": [
    "# Memory Leakage using pympler\n",
    "\n",
    "Pympler is a development tool to measure, monitor and analyze the memory behavior of Python objects in a running Python application.\n",
    "\n",
    "By pympling a Python application, detailed insight in the size and the lifetime of Python objects can be obtained. Undesirable or unexpected runtime behavior like memory bloat and other “pymples” can easily be identified.\n",
    "\n",
    "Pympler integrates three previously separate modules into a single, comprehensive profiling tool. The asizeof module provides basic size information for one or several Python objects, module muppy is used for on-line monitoring of a Python application and module Class Tracker provides off-line analysis of the lifetime of selected Python objects.\n",
    "\n",
    "A web profiling frontend exposes process statistics, garbage visualisation and class tracker statistics.\n",
    "\n",
    "[Hit table of content for tutorial](https://pythonhosted.org/Pympler/index.html#table-of-content)"
   ]
  },
  {
   "cell_type": "markdown",
   "metadata": {},
   "source": [
    "# Read More \n",
    "[Understanding Python Memory Managment](https://rushter.com/blog/python-memory-managment/)\n",
    "\n",
    "[Python Garbage Collector](https://rushter.com/blog/python-garbage-collector/)"
   ]
  }
 ],
 "metadata": {
  "kernelspec": {
   "display_name": "Python 3",
   "language": "python",
   "name": "python3"
  },
  "language_info": {
   "codemirror_mode": {
    "name": "ipython",
    "version": 3
   },
   "file_extension": ".py",
   "mimetype": "text/x-python",
   "name": "python",
   "nbconvert_exporter": "python",
   "pygments_lexer": "ipython3",
   "version": "3.6.9"
  }
 },
 "nbformat": 4,
 "nbformat_minor": 2
}
